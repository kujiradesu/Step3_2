{
 "cells": [
  {
   "cell_type": "code",
   "execution_count": 2,
   "metadata": {},
   "outputs": [],
   "source": [
    "#ライブラリのインポート\n",
    "from bs4 import BeautifulSoup\n",
    "import re #不要文字削除\n",
    "import requests\n",
    "from time import sleep\n",
    "import time\n",
    "from tqdm import tqdm   #for文の進捗確認\n",
    "import pandas as pd"
   ]
  },
  {
   "cell_type": "code",
   "execution_count": 3,
   "metadata": {},
   "outputs": [],
   "source": [
    "url = \"https://suumo.jp/jj/chintai/ichiran/FR301FC001/?ar=030&bs=040&pc=30&smk=&po1=25&po2=99&shkr1=03&shkr2=03&shkr3=03&shkr4=03&sc=13101&sc=13102&sc=13103&sc=13104&sc=13105&sc=13113&sc=13106&sc=13107&sc=13108&sc=13118&sc=13121&sc=13122&sc=13123&sc=13109&sc=13110&sc=13111&sc=13112&sc=13114&sc=13115&sc=13120&sc=13116&sc=13117&sc=13119&ta=13&cb=0.0&ct=20.0&md=05&md=06&md=07&md=08&md=09&et=10&mb=0&mt=9999999&cn=15&tc=0400301&fw2=\"\n",
    "res = requests.get(url)\n",
    "res.encoding = 'utf-8'\n",
    "soup = BeautifulSoup(res.text, 'html.parser')\n",
    "maxpage = int(soup.select(\"ol.pagination-parts a\")[-1].text)"
   ]
  },
  {
   "cell_type": "code",
   "execution_count": 4,
   "metadata": {},
   "outputs": [],
   "source": [
    "# 正常にHTML情報が取得できれば以下のコードを実行\n",
    "if res.status_code == 200:\n",
    "\n",
    "    names = []\n",
    "    addresses = []\n",
    "    access = []\n",
    "    ages = []\n",
    "    maxfloors = []\n",
    "\n",
    "    floors = []\n",
    "    rents = []\n",
    "    layouts = []\n",
    "    sizes = []\n",
    "\n",
    "\n",
    "    for x in range(maxpage):\n",
    "        res = requests.get(url+\"&page=\"+str(x))\n",
    "        res.encoding = \"utf-8\"\n",
    "        soup = BeautifulSoup(res.text, \"html.parser\")\n",
    "        suumo_cassetteitem_from_html = soup.select('div.cassetteitem')\n",
    "        time.sleep(1)\n",
    "\n",
    "        for sc in suumo_cassetteitem_from_html:\n",
    "            suumo_name = sc.select('div.cassetteitem_content-title')[0].text\n",
    "            suumo_address = sc.select(\"li.cassetteitem_detail-col1\")[0].text\n",
    "            suumo_access = sc.select('li.cassetteitem_detail-col2')[0].text.replace('\\n',',').strip(',')\n",
    "            suumo_age, suumo_maxfloor = sc.select(\"li.cassetteitem_detail-col3\")[0].text.split()\n",
    "\n",
    "            tbody_items = sc.select('tbody')\n",
    "\n",
    "            for ti in tbody_items:\n",
    "                suumo_floor = ti.select('tr.js-cassette_link')[0].text.split()[0]\n",
    "                suumo_rent = ti.select('span.cassetteitem_other-emphasis, span.ui-text--bold')[0].text\n",
    "                suumo_layout = ti.select('span.cassetteitem_madori')[0].text\n",
    "                suumo_size = ti.select('span.cassetteitem_menseki')[0].text\n",
    "\n",
    "                names.append(suumo_name)\n",
    "                addresses.append(suumo_address)\n",
    "                access.append(suumo_access)\n",
    "                ages.append(suumo_age)\n",
    "                maxfloors.append(suumo_maxfloor)\n",
    "                floors.append(suumo_floor)\n",
    "                rents.append(suumo_rent)\n",
    "                layouts.append(suumo_layout)\n",
    "                sizes.append(suumo_size)\n",
    "\n",
    "        data = {\n",
    "        'Name': names,\n",
    "        'Address': addresses,\n",
    "        'Access': access,\n",
    "        'Age': ages,\n",
    "        'Max_Floor': maxfloors,\n",
    "        'Floor': floors,\n",
    "        'Rent': rents,\n",
    "        'Layout': layouts,\n",
    "        'Size': sizes\n",
    "    }\n"
   ]
  },
  {
   "cell_type": "code",
   "execution_count": 5,
   "metadata": {},
   "outputs": [],
   "source": [
    " df = pd.DataFrame(data)"
   ]
  },
  {
   "cell_type": "code",
   "execution_count": 6,
   "metadata": {},
   "outputs": [
    {
     "data": {
      "text/plain": [
       "Name         object\n",
       "Address      object\n",
       "Access       object\n",
       "Age          object\n",
       "Max_Floor    object\n",
       "Floor        object\n",
       "Rent         object\n",
       "Layout       object\n",
       "Size         object\n",
       "dtype: object"
      ]
     },
     "execution_count": 6,
     "metadata": {},
     "output_type": "execute_result"
    }
   ],
   "source": [
    "#データ型の確認\n",
    "df.dtypes"
   ]
  },
  {
   "cell_type": "code",
   "execution_count": 7,
   "metadata": {},
   "outputs": [
    {
     "data": {
      "text/html": [
       "<div>\n",
       "<style scoped>\n",
       "    .dataframe tbody tr th:only-of-type {\n",
       "        vertical-align: middle;\n",
       "    }\n",
       "\n",
       "    .dataframe tbody tr th {\n",
       "        vertical-align: top;\n",
       "    }\n",
       "\n",
       "    .dataframe thead th {\n",
       "        text-align: right;\n",
       "    }\n",
       "</style>\n",
       "<table border=\"1\" class=\"dataframe\">\n",
       "  <thead>\n",
       "    <tr style=\"text-align: right;\">\n",
       "      <th></th>\n",
       "      <th>Name</th>\n",
       "      <th>Address</th>\n",
       "      <th>Access</th>\n",
       "      <th>Age</th>\n",
       "      <th>Max_Floor</th>\n",
       "      <th>Floor</th>\n",
       "      <th>Rent</th>\n",
       "      <th>Layout</th>\n",
       "      <th>Size</th>\n",
       "    </tr>\n",
       "  </thead>\n",
       "  <tbody>\n",
       "    <tr>\n",
       "      <th>0</th>\n",
       "      <td>ＪＲ総武線 錦糸町駅 15階建 築2年</td>\n",
       "      <td>東京都墨田区江東橋２</td>\n",
       "      <td>ＪＲ総武線/錦糸町駅 歩7分,都営新宿線/住吉駅 歩8分,都営新宿線/菊川駅 歩14分</td>\n",
       "      <td>築2年</td>\n",
       "      <td>15階建</td>\n",
       "      <td>6階</td>\n",
       "      <td>9.7万円</td>\n",
       "      <td>2K</td>\n",
       "      <td>25.6m2</td>\n",
       "    </tr>\n",
       "    <tr>\n",
       "      <th>1</th>\n",
       "      <td>ＪＲ総武線 錦糸町駅 15階建 築2年</td>\n",
       "      <td>東京都墨田区江東橋２</td>\n",
       "      <td>ＪＲ総武線/錦糸町駅 歩7分,都営新宿線/住吉駅 歩8分,都営新宿線/菊川駅 歩14分</td>\n",
       "      <td>築2年</td>\n",
       "      <td>15階建</td>\n",
       "      <td>14階</td>\n",
       "      <td>10.6万円</td>\n",
       "      <td>2K</td>\n",
       "      <td>25.6m2</td>\n",
       "    </tr>\n",
       "    <tr>\n",
       "      <th>2</th>\n",
       "      <td>ティモーネ グランデ町屋</td>\n",
       "      <td>東京都荒川区東尾久６</td>\n",
       "      <td>東京メトロ千代田線/町屋駅 歩7分,日暮里・舎人ライナー/熊野前駅 歩9分,日暮里・舎人ライ...</td>\n",
       "      <td>築3年</td>\n",
       "      <td>11階建</td>\n",
       "      <td>11階</td>\n",
       "      <td>16.5万円</td>\n",
       "      <td>3DK</td>\n",
       "      <td>51.3m2</td>\n",
       "    </tr>\n",
       "    <tr>\n",
       "      <th>7</th>\n",
       "      <td>パークホームズ成増マークレジデンス</td>\n",
       "      <td>東京都板橋区成増３</td>\n",
       "      <td>東武東上線/成増駅 歩6分,東京メトロ有楽町線/地下鉄成増駅 歩6分,東京メトロ副都心線/地...</td>\n",
       "      <td>築15年</td>\n",
       "      <td>9階建</td>\n",
       "      <td>1階</td>\n",
       "      <td>18.6万円</td>\n",
       "      <td>2LDK</td>\n",
       "      <td>55.77m2</td>\n",
       "    </tr>\n",
       "    <tr>\n",
       "      <th>8</th>\n",
       "      <td>パークホームズ成増マークレジデンス</td>\n",
       "      <td>東京都板橋区成増３</td>\n",
       "      <td>東武東上線/成増駅 歩6分,東京メトロ有楽町線/地下鉄成増駅 歩6分,東京メトロ副都心線/地...</td>\n",
       "      <td>築15年</td>\n",
       "      <td>9階建</td>\n",
       "      <td>8階</td>\n",
       "      <td>18.8万円</td>\n",
       "      <td>2LDK</td>\n",
       "      <td>59.18m2</td>\n",
       "    </tr>\n",
       "  </tbody>\n",
       "</table>\n",
       "</div>"
      ],
      "text/plain": [
       "                  Name     Address  \\\n",
       "0  ＪＲ総武線 錦糸町駅 15階建 築2年  東京都墨田区江東橋２   \n",
       "1  ＪＲ総武線 錦糸町駅 15階建 築2年  東京都墨田区江東橋２   \n",
       "2         ティモーネ グランデ町屋  東京都荒川区東尾久６   \n",
       "7    パークホームズ成増マークレジデンス   東京都板橋区成増３   \n",
       "8    パークホームズ成増マークレジデンス   東京都板橋区成増３   \n",
       "\n",
       "                                              Access   Age Max_Floor Floor  \\\n",
       "0        ＪＲ総武線/錦糸町駅 歩7分,都営新宿線/住吉駅 歩8分,都営新宿線/菊川駅 歩14分   築2年      15階建    6階   \n",
       "1        ＪＲ総武線/錦糸町駅 歩7分,都営新宿線/住吉駅 歩8分,都営新宿線/菊川駅 歩14分   築2年      15階建   14階   \n",
       "2  東京メトロ千代田線/町屋駅 歩7分,日暮里・舎人ライナー/熊野前駅 歩9分,日暮里・舎人ライ...   築3年      11階建   11階   \n",
       "7  東武東上線/成増駅 歩6分,東京メトロ有楽町線/地下鉄成増駅 歩6分,東京メトロ副都心線/地...  築15年       9階建    1階   \n",
       "8  東武東上線/成増駅 歩6分,東京メトロ有楽町線/地下鉄成増駅 歩6分,東京メトロ副都心線/地...  築15年       9階建    8階   \n",
       "\n",
       "     Rent Layout     Size  \n",
       "0   9.7万円     2K   25.6m2  \n",
       "1  10.6万円     2K   25.6m2  \n",
       "2  16.5万円    3DK   51.3m2  \n",
       "7  18.6万円   2LDK  55.77m2  \n",
       "8  18.8万円   2LDK  59.18m2  "
      ]
     },
     "execution_count": 7,
     "metadata": {},
     "output_type": "execute_result"
    }
   ],
   "source": [
    "df.drop_duplicates(subset=['Address', 'Floor', 'Rent', 'Layout', 'Size'], inplace=True)\n",
    "df.head(\n",
    ")"
   ]
  },
  {
   "cell_type": "code",
   "execution_count": 8,
   "metadata": {},
   "outputs": [],
   "source": [
    "#google spread sheets 出力\n",
    "#ライブラリのインポート\n",
    "import gspread\n",
    "from oauth2client.service_account import ServiceAccountCredentials\n",
    "\n",
    "#環境変数関連\n",
    "from dotenv import load_dotenv\n",
    "load_dotenv()\n",
    "import os"
   ]
  },
  {
   "cell_type": "code",
   "execution_count": 9,
   "metadata": {},
   "outputs": [],
   "source": [
    "#スコープとjsonファイルを使って認証情報を取得\n",
    "SCOPES = ['https://www.googleapis.com/auth/spreadsheets', 'https://www.googleapis.com/auth/drive']\n",
    "#SERVICE_ACCOUNT_FILE = '/Users/maedaryo/step3/tech0-step3-407115-94fd3b930a55.json'\n",
    "SERVICE_ACCOUNT_FILE = os.getenv(\"SERVICE_ACCOUNT_FILE\")\n",
    "credentials = ServiceAccountCredentials.from_json_keyfile_name(SERVICE_ACCOUNT_FILE, SCOPES)"
   ]
  },
  {
   "cell_type": "code",
   "execution_count": 11,
   "metadata": {},
   "outputs": [],
   "source": [
    "#認証情報をauthorize関数に渡してスプレッドシートの操作権を取得\n",
    "gs = gspread.authorize(credentials)\n",
    "\n",
    "#シート情報を取得して変数に代入\n",
    "SPREADSHEET_KEY = os.getenv(\"SPREADSHEET_KEY\")\n",
    "workbook = gs.open_by_key(SPREADSHEET_KEY)\n",
    "worksheet = workbook.worksheet(\"db\")"
   ]
  },
  {
   "cell_type": "code",
   "execution_count": 12,
   "metadata": {},
   "outputs": [
    {
     "name": "stderr",
     "output_type": "stream",
     "text": [
      "/var/folders/kg/8x8shztx3cxdm81q2gqnhjf40000gn/T/ipykernel_15161/3352757521.py:6: DeprecationWarning: [Deprecated][in version 6.0.0]: Method signature's arguments 'range_name' and 'values' will change their order. We recommend using named arguments for minimal impact. In addition, the argument 'values' will be mandatory of type: 'List[List]'. (ex) Worksheet.update(values = [[]], range_name=) \n",
      "  worksheet.update(\"A1\", values)\n"
     ]
    },
    {
     "data": {
      "text/plain": [
       "{'spreadsheetId': '1PfzOsRARhloJ3ebywaTIW4yj_17b7koLv2mv7okRlrE',\n",
       " 'updatedRange': 'db!A1:I2320',\n",
       " 'updatedRows': 2320,\n",
       " 'updatedColumns': 9,\n",
       " 'updatedCells': 20880}"
      ]
     },
     "execution_count": 12,
     "metadata": {},
     "output_type": "execute_result"
    }
   ],
   "source": [
    "#特定の列（'Address', 'Floor', 'Rent', 'Layout', 'Size'）に基づいて重複する行を削除\n",
    "df.drop_duplicates(subset=['Address', 'Floor', 'Rent', 'Layout', 'Size'], inplace=True)\n",
    "\n",
    "values = [df.columns.values.tolist()] + df.values.tolist()\n",
    "\n",
    "worksheet.update(\"A1\", values)"
   ]
  },
  {
   "cell_type": "code",
   "execution_count": 13,
   "metadata": {},
   "outputs": [],
   "source": [
    "#SQLite\n",
    "import sqlite3\n",
    "conn = sqlite3.connect('fudosan.db')\n",
    "df.to_sql('suumo', conn, if_exists='replace', index=False)\n",
    "conn.close()\n"
   ]
  },
  {
   "cell_type": "code",
   "execution_count": null,
   "metadata": {},
   "outputs": [],
   "source": []
  }
 ],
 "metadata": {
  "kernelspec": {
   "display_name": "Python 3",
   "language": "python",
   "name": "python3"
  },
  "language_info": {
   "codemirror_mode": {
    "name": "ipython",
    "version": 3
   },
   "file_extension": ".py",
   "mimetype": "text/x-python",
   "name": "python",
   "nbconvert_exporter": "python",
   "pygments_lexer": "ipython3",
   "version": "3.11.4"
  }
 },
 "nbformat": 4,
 "nbformat_minor": 2
}
